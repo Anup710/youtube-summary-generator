{
 "cells": [
  {
   "cell_type": "code",
   "execution_count": 105,
   "id": "d0b77be6",
   "metadata": {},
   "outputs": [],
   "source": [
    "import torch\n",
    "import os\n",
    "from  openai import OpenAI\n",
    "from dotenv import load_dotenv\n",
    "import re\n",
    "from youtube_transcript_api import YouTubeTranscriptApi"
   ]
  },
  {
   "cell_type": "code",
   "execution_count": 4,
   "id": "231b1cff",
   "metadata": {},
   "outputs": [],
   "source": [
    "# load env variables \n",
    "\n",
    "def load_env_vars():\n",
    "    load_dotenv()\n",
    "\n",
    "    global OPENAI_API_KEY\n",
    "    OPENAI_API_KEY = os.getenv(\"OPENAI_API_KEY\")\n",
    "\n",
    "    if not OPENAI_API_KEY:\n",
    "        raise ValueError(\"openai api key not found.\")\n",
    "\n",
    "\n",
    "load_env_vars()"
   ]
  },
  {
   "cell_type": "code",
   "execution_count": 84,
   "id": "1622bd18",
   "metadata": {},
   "outputs": [],
   "source": [
    "def get_user_input():\n",
    "    url_in = input(\"Enter URL of youtube link you wish to summarize:\")\n",
    "    return url_in\n",
    "\n",
    "def clean_url(url):\n",
    "    \"\"\"\n",
    "    To accept the user string, clean it, extract video ID and to return a standard link for transcript extraction.  \n",
    "    \"\"\"\n",
    "    url = url.strip()\n",
    "    # handle empty url case\n",
    "    patterns = [\n",
    "        r'[?&]v=([a-zA-Z0-9_-]{11})',      # youtube.com/watch?v=\n",
    "        r'youtu\\.be/([a-zA-Z0-9_-]{11})',   # youtu.be/\n",
    "        r'/embed/([a-zA-Z0-9_-]{11})',      # youtube.com/embed/\n",
    "        r'/v/([a-zA-Z0-9_-]{11})',          # youtube.com/v/\n",
    "    ]\n",
    "    \n",
    "    for pattern in patterns:\n",
    "        match = re.search(pattern, url)\n",
    "        if match:\n",
    "            video_id = match.group(1)\n",
    "            # return ('https://www.youtube.com/watch?v=' + video_id)\n",
    "            return video_id"
   ]
  },
  {
   "cell_type": "code",
   "execution_count": 85,
   "id": "84523de2",
   "metadata": {},
   "outputs": [
    {
     "name": "stdout",
     "output_type": "stream",
     "text": [
      "PGUdWfB8nLg\n"
     ]
    }
   ],
   "source": [
    "url = get_user_input()\n",
    "video_id = clean_url(url)\n",
    "\n",
    "print(video_id)"
   ]
  },
  {
   "cell_type": "markdown",
   "id": "68579c51",
   "metadata": {},
   "source": [
    "Sample links\n",
    "\n",
    "- https://www.youtube.com/watch?v=len22DXc8AQ\n",
    "- https://www.youtube.com/watch?v=FTH4k8z7j84\n",
    "- https://youtu.be/FTH4k8z7j84?si=DaKQmfE3O7nTQ8Dm&t=36\n",
    "- https://youtu.be/FTH4k8z7j84?si=nP8Qey00he1MJ0Km\n",
    "\n",
    "Dealing with the simplest form of links here with video id = last 11 chars: direct and simple"
   ]
  },
  {
   "cell_type": "code",
   "execution_count": 60,
   "id": "898f5e61",
   "metadata": {},
   "outputs": [
    {
     "name": "stdout",
     "output_type": "stream",
     "text": [
      "v= occurs at index 30, FTH4k8z7j84\n"
     ]
    }
   ],
   "source": [
    "# test block\n",
    "\n",
    "for i in range(len(url) - 1):\n",
    "    cons_char = url[i]+url[i+1]\n",
    "    if cons_char == 'v=':\n",
    "        print(f\"{cons_char} occurs at index {i}, {url[i+2:i+13]}\")\n",
    "        break\n",
    "    # print(cons_char)\n"
   ]
  },
  {
   "cell_type": "code",
   "execution_count": 97,
   "id": "1fd620d7",
   "metadata": {},
   "outputs": [],
   "source": [
    "# fetch script\n",
    "\n",
    "def fetch_script(video_id):\n",
    "    \"\"\"\"\n",
    "    fetches the script dictionary using the link of a video \n",
    "    \"\"\"\n",
    "    ytapi = YouTubeTranscriptApi()\n",
    "    info = ytapi.fetch(video_id= video_id)\n",
    "    # info has some metadata time stamp wise from which text has to be specifically extracted and collated \n",
    "    full_text = \"\"\n",
    "\n",
    "    for snippet in info.snippets:\n",
    "        full_text += (\" \" + snippet.text)\n",
    "\n",
    "    return full_text"
   ]
  },
  {
   "cell_type": "code",
   "execution_count": null,
   "id": "a9fbb9e4",
   "metadata": {},
   "outputs": [],
   "source": [
    "help(YouTubeTranscriptApi)"
   ]
  },
  {
   "cell_type": "code",
   "execution_count": 98,
   "id": "d971ebf7",
   "metadata": {},
   "outputs": [],
   "source": [
    "transcript = fetch_script(video_id)"
   ]
  },
  {
   "cell_type": "code",
   "execution_count": 99,
   "id": "e7deabd8",
   "metadata": {},
   "outputs": [
    {
     "name": "stdout",
     "output_type": "stream",
     "text": [
      " when I was young my family lived overseas uh I lived in Indonesia for a few years and my mother she didn't have the money to send me where all the American kids went to school but she thought it was important for me to keep up with an American education so she decided to teach me extra lessons herself Monday through Friday but because she had to go to work the only time she could do it was at 4:30 in the morning but whenever I'd complain my mother would just give me one looks and she'd say this is no picnic for me either Buster so I know that some of you are still adjusting to being back at school but I'm here today because I have something important to discuss with you my father left my family when I was 2 years old and I was raised by a single mom who had to work and who struggled at times to pay the bills and wasn't always able to give us the things that other kids had there were times when I missed having a father in my life there were times when I was lonely and I felt like I didn't fit in so I wasn't always as focused as I should have been on school and I did some things that I'm not proud of and I got in more trouble than I should have and my life could have easily taken a turn for the worst but I was I was lucky I got a lot of Second Chances and I had the opportunity to go to college and law school and follow my dreams my wife our First Lady Michelle Obama mama she has a similar story neither of her parents had gone to college and they didn't have a lot of money but they worked hard and she worked hard so that she could go to the best schools in this country some of you might not have those advantages maybe you don't have adults in your life who give you the support that you need maybe someone in your family has lost their job and there's not enough money to go around maybe you live in a neighborhood where you don't feel safe or have friends who are Pres in you to do things you know aren't right maybe you could be a great writer maybe even good enough to write a book or articles in a newspaper but you might not know it until you write that English paper uh that English class paper that's assigned to you maybe you could be an innovator or an inventor maybe even good enough to come up with the next iPhone or the new medicine or vaccine but you might not know it until you do your project for your science class maybe you could be a mayor or a senator or a Supreme Court Justice but you might not know that until you join student government or the debate team and no matter what you want to do with your life I guarantee that you'll need an education to do it you want to be a doctor or a teacher or a police officer you want to be a nurse or an architect a lawyer or a member of our military you're going to need a good education for every single one of those careers you cannot drop out of school and just drop into a good job you've got to train for it and work for it and learn for it and this isn't just important for your own life and your own future what you make of your education will decide nothing less than the future of this country the future of America depends on you what you're learning in school today will determine whether we as a nation can meet our greatest challenges in the future you'll need the knowledge and problem solving skills you learn in science and math to cure diseases like cancer and AIDS and to develop new Energy Technologies and protect our environment you'll need the insights and critical thinking skills you gain in history and social studies to fight poverty and homelessness crime and discrimination and make our nation more fair and more free you'll need the creativity and Ingenuity you develop in all your classes to build new companies that will create new jobs and boost our economy we need every single one of you to develop your talents and your skills and your intellect so you can help us old folks solve our most difficult problems if you don't do that if you quit on school you're not just quitting on yourself you're quitting on your country I know it's not always easy to do well in school I know a lot of you have challenges in your your lives right now that can make it hard to focus on your school work I get it I know what it's like but at the end of the day the circumstances of your life what you look like where you come from how much money you have what you've got going on at home none of that is an excuse for neglecting your homework or having a bad attitude in school that's no excuse for talking back to your teacher or cutting class or dropping out of school there is no excuse for not trying where you are right now doesn't have to determine where you'll end up no one's written your destiny for you because here in America you write your own destiny you make your own future that's what young people like you are doing every day all across America that's why today I'm calling on each of you to set your own goals for your education and do everything you can to meet them your goal can be something as simple as doing all your homework paying attention in class or spending some time each day reading a book maybe you'll decide to get involved in an extracurricular activity or volunteer in your community maybe you'll decide to stand up for kids who are being teased or bullied because of who they are or how they look because you believe like I do that all young people deserve a safe environment to study and learn maybe you'll decide to take better care of yourself so you could be more ready to learn but whatever you resolve to do I want you to commit to it I want you to really work at it I know that sometimes you get that sense from TV that you can be rich and successful without any hard work that your ticket to success is through rapping or basketball or being a reality TV star chances are you're not going to be any of those things the truth truth is being successful is hard you won't love every subject that you study you won't click with every teacher that you have not every homework assignment will seem completely relevant to your life right at this minute and you won't necessarily succeed at everything the first time you try that's okay some of the most successful people in the world are the ones who've had the most failures JK Rollins who wrote Harry Potter her first Harry Potter book was rejected 12 times before it was finally published Michael Jordan was cut from his high school basketball team he lost hundreds of games and missed thousands of shots during his career but he once said I have failed over and over and over again in my life and that's why I sued succeed these people succeeded because they understood that you can't let your failures Define you you have to let your failures teach you you have to let them show you what to do differently the next time so if you get into trouble that doesn't mean you're a troublemaker it means you need to try harder to act right if you get a bad grade that doesn't mean you're stupid it just means you need to spend more time studying no one's born being good at all things you become good at things through hard work you're not a varsity athlete the first time you play a new sport you don't hit every note the first time you sing a song you've got to practice the same principle applies to your schoolwork you might have to do a math problem a few times before you get it right you might have to read something a few times before you understand it you definitely have to do a few drafts of a paper before it's good enough to hand in don't be afraid to ask questions don't be afraid to ask for help when you need it I do that every day asking for help isn't a sign of weakness it's a sign of strength because it shows you have the courage to admit when you don't know something and that then allows you to learn something new so find an adult that you trust a parent a grandparent or a teacher a coach or a counselor and ask them to help you stay on track to meet your goals and even when you're struggling even when you're discouraged and you feel like other people have given up on you don't ever give up on yourself because when you give up on yourself you give up on your country the story of America isn't about people who quit when things got tough it's about people who kept going who tried harder who loved their country too much to do anything less than their best it's the story of students who sat where you sit 250 years ago and went on to wage a revolution and they founded this nation young people students who sat where you sit 75 years ago who overcame a depression and won a World War who fought for civil rights and put a man on the moon students who sat where you sit 20 years ago who founded Google and Twitter and Facebook and change the way we communicate with each other so today I want to ask all of you what's your contribution going to be what problems are you going to solve what discoveries will you make what will a president who comes here in 20 or 50 or 100 years say about what all of you did for this country you know your families your teachers and I are doing everything we can to make sure you have the education you need to answer these questions I'm working hard to fix up your classrooms and get you the books and the equipment and the computers you need to learn but you've got to do your part too so I expect all of you to get serious this year I expect you to put your best effort into everything you do I expect great things from each of you so don't let us down don't let your family down or your country down most of all don't let yourself down make us all proud [Music]\n",
      "<class 'str'>\n",
      "['__add__', '__class__', '__contains__', '__delattr__', '__dir__', '__doc__', '__eq__', '__format__', '__ge__', '__getattribute__', '__getitem__', '__getnewargs__', '__getstate__', '__gt__', '__hash__', '__init__', '__init_subclass__', '__iter__', '__le__', '__len__', '__lt__', '__mod__', '__mul__', '__ne__', '__new__', '__reduce__', '__reduce_ex__', '__repr__', '__rmod__', '__rmul__', '__setattr__', '__sizeof__', '__str__', '__subclasshook__', 'capitalize', 'casefold', 'center', 'count', 'encode', 'endswith', 'expandtabs', 'find', 'format', 'format_map', 'index', 'isalnum', 'isalpha', 'isascii', 'isdecimal', 'isdigit', 'isidentifier', 'islower', 'isnumeric', 'isprintable', 'isspace', 'istitle', 'isupper', 'join', 'ljust', 'lower', 'lstrip', 'maketrans', 'partition', 'removeprefix', 'removesuffix', 'replace', 'rfind', 'rindex', 'rjust', 'rpartition', 'rsplit', 'rstrip', 'split', 'splitlines', 'startswith', 'strip', 'swapcase', 'title', 'translate', 'upper', 'zfill']\n"
     ]
    }
   ],
   "source": [
    "print(transcript)\n",
    "print(type(transcript))\n",
    "print(dir(transcript))"
   ]
  },
  {
   "cell_type": "markdown",
   "id": "8667ae06",
   "metadata": {},
   "source": [
    "So now the transcript is ready. Now time to pass it to the LLM wrapped within a prompt. "
   ]
  },
  {
   "cell_type": "code",
   "execution_count": null,
   "id": "e2dc9900",
   "metadata": {},
   "outputs": [],
   "source": [
    "def summarize_with_LLM(transcript_text: str) -> str:\n",
    "    \"\"\"\n",
    "    Summarizes a given YouTube video transcript using the OpenAI LLM.\n",
    "    The output is a structured, readable summary that serves as a proxy for watching the video.\n",
    "    \n",
    "    Args:\n",
    "        transcript_text (str): The full cleaned transcript of the YouTube video.\n",
    "\n",
    "    Returns:\n",
    "        str: A formatted summary of the video content.\n",
    "    \"\"\"\n",
    "\n",
    "    client = OpenAI(api_key=os.environ.get(\"OPENAI_API_KEY\"))\n",
    "\n",
    "    system_instructions = (\n",
    "        \"You are an assistant tasked with summarizing YouTube video transcripts.\\n\"\n",
    "        \"The listener will use your summary as a substitute for watching the full video, \"\n",
    "        \"so extract key ideas, arguments, or narratives and present them in a clear, organized format.\\n\"\n",
    "        \"Use sections and bullet points. Format it for terminal display (no markdown).\\n\"\n",
    "    )\n",
    "\n",
    "    user_prompt = f\"Transcript:\\n{transcript_text.strip()}\"\n",
    "\n",
    "    response = client.chat.completions.create(\n",
    "        model=\"gpt-4o-mini\",\n",
    "        messages=[\n",
    "            {\"role\": \"system\", \"content\": system_instructions},\n",
    "            {\"role\": \"user\", \"content\": user_prompt},\n",
    "        ]\n",
    "    )\n",
    "    # print(response) -- to get reponse format with metadata and extract relevant bits. \n",
    "\n",
    "    return response.choices[0].message.content.strip()\n"
   ]
  },
  {
   "cell_type": "code",
   "execution_count": 131,
   "id": "b6483fd6",
   "metadata": {},
   "outputs": [
    {
     "data": {
      "text/plain": [
       "\"Key Ideas from the Transcript:\\n\\n1. Personal Background:\\n   - The speaker reflects on their youth living in Indonesia and the struggle of being raised by a single mother.\\n   - They recall feeling lonely and unfocused in school without a father figure.\\n\\n2. Importance of Education:\\n   - Emphasizes that education is crucial for success in various careers.\\n   - States that dropping out of school equates to quitting not just on oneself, but also on the country.\\n   - Education shapes the future of America by developing necessary skills to address national challenges.\\n\\n3. Overcoming Challenges:\\n   - Acknowledges that many students face obstacles, such as lack of support, financial hardships, and unsafe environments.\\n   - Encourages students to overcome these challenges, emphasizing that circumstances do not dictate destiny.\\n\\n4. Setting Goals for Education:\\n   - Urges students to set personal educational goals and commit to meeting them.\\n   - Suggests goals could range from doing homework to participating in extracurricular activities.\\n\\n5. Realities of Success:\\n   - Highlights that success requires hard work and perseverance.\\n   - Shares examples of famous individuals who faced rejection and failure but persevered (e.g., J.K. Rowling, Michael Jordan).\\n\\n6. Importance of Resilience:\\n   - Encourages students to learn from failures and view them as opportunities for growth.\\n   - Advocates for consistently seeking help and asking questions as signs of strength.\\n\\n7. Collective Responsibility:\\n   - Calls for students to engage with their education actively and contribute to the future of the nation.\\n   - Reminds students that their efforts are part of a larger legacy of young people impacting America.\\n\\n8. Commitment and Expectation:\\n   - The speaker expresses high expectations for students to take their education seriously and strive for greatness.\\n   - Urges students not to let their families, teachers, or country down, reinforcing the idea of accountability.\\n\\n9. Conclusion:\\n   - Ends on a motivational note, pushing students to contribute positively to society and make their education count for themselves and their nation.\\n\\nThis summary captures the essence of the speaker's message, highlighting the significance of education and the personal responsibility of students in shaping their futures and that of the country.\""
      ]
     },
     "execution_count": 131,
     "metadata": {},
     "output_type": "execute_result"
    }
   ],
   "source": [
    "summarize_with_LLM(transcript)"
   ]
  }
 ],
 "metadata": {
  "kernelspec": {
   "display_name": "venv",
   "language": "python",
   "name": "python3"
  },
  "language_info": {
   "codemirror_mode": {
    "name": "ipython",
    "version": 3
   },
   "file_extension": ".py",
   "mimetype": "text/x-python",
   "name": "python",
   "nbconvert_exporter": "python",
   "pygments_lexer": "ipython3",
   "version": "3.13.2"
  }
 },
 "nbformat": 4,
 "nbformat_minor": 5
}
